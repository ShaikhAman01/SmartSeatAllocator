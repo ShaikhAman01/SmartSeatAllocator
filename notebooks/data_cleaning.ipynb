{
 "cells": [
  {
   "cell_type": "code",
   "execution_count": 13,
   "metadata": {},
   "outputs": [],
   "source": [
    "import pandas as pd\n",
    "import numpy as np\n",
    "import matplotlib.pyplot as plt\n",
    "import seaborn as sns\n",
    "from sklearn.model_selection import train_test_split\n",
    "from sklearn.preprocessing import OneHotEncoder\n",
    "from sklearn.linear_model import LinearRegression\n",
    "from sklearn.linear_model import LogisticRegression\n",
    "from sklearn.tree import DecisionTreeClassifier\n",
    "from sklearn.ensemble import RandomForestClassifier\n",
    "from sklearn.cluster import KMeans\n",
    "from sklearn.metrics import confusion_matrix\n",
    "from sklearn.metrics import mean_squared_error\n",
    "import json"
   ]
  },
  {
   "cell_type": "code",
   "execution_count": 14,
   "metadata": {},
   "outputs": [
    {
     "name": "stdout",
     "output_type": "stream",
     "text": [
      "<class 'pandas.core.frame.DataFrame'>\n",
      "RangeIndex: 20833 entries, 0 to 20832\n",
      "Data columns (total 8 columns):\n",
      " #   Column                 Non-Null Count  Dtype \n",
      "---  ------                 --------------  ----- \n",
      " 0   Institute              20833 non-null  object\n",
      " 1   Quota                  20833 non-null  object\n",
      " 2   Gender                 20833 non-null  object\n",
      " 3   Year                   20833 non-null  int64 \n",
      " 4   Academic_Program_Name  20833 non-null  object\n",
      " 5   Closing_Rank           20833 non-null  object\n",
      " 6   Opening_Rank           20833 non-null  object\n",
      " 7   Seat_Type              20833 non-null  object\n",
      "dtypes: int64(1), object(7)\n",
      "memory usage: 1.3+ MB\n"
     ]
    },
    {
     "data": {
      "text/html": [
       "<div>\n",
       "<style scoped>\n",
       "    .dataframe tbody tr th:only-of-type {\n",
       "        vertical-align: middle;\n",
       "    }\n",
       "\n",
       "    .dataframe tbody tr th {\n",
       "        vertical-align: top;\n",
       "    }\n",
       "\n",
       "    .dataframe thead th {\n",
       "        text-align: right;\n",
       "    }\n",
       "</style>\n",
       "<table border=\"1\" class=\"dataframe\">\n",
       "  <thead>\n",
       "    <tr style=\"text-align: right;\">\n",
       "      <th></th>\n",
       "      <th>Institute</th>\n",
       "      <th>Quota</th>\n",
       "      <th>Gender</th>\n",
       "      <th>Year</th>\n",
       "      <th>Academic_Program_Name</th>\n",
       "      <th>Closing_Rank</th>\n",
       "      <th>Opening_Rank</th>\n",
       "      <th>Seat_Type</th>\n",
       "    </tr>\n",
       "  </thead>\n",
       "  <tbody>\n",
       "    <tr>\n",
       "      <th>0</th>\n",
       "      <td>Indian Institute of Technology Bhubaneswar</td>\n",
       "      <td>AI</td>\n",
       "      <td>Gender-Neutral</td>\n",
       "      <td>2016</td>\n",
       "      <td>Mechanical Engineering (4 Years, Bachelor of T...</td>\n",
       "      <td>651</td>\n",
       "      <td>583</td>\n",
       "      <td>ST</td>\n",
       "    </tr>\n",
       "    <tr>\n",
       "      <th>1</th>\n",
       "      <td>Indian Institute of Technology Bombay</td>\n",
       "      <td>AI</td>\n",
       "      <td>Gender-Neutral</td>\n",
       "      <td>2016</td>\n",
       "      <td>Civil Engineering (4 Years, Bachelor of Techno...</td>\n",
       "      <td>21</td>\n",
       "      <td>21</td>\n",
       "      <td>OBC-NCL (PwD)</td>\n",
       "    </tr>\n",
       "    <tr>\n",
       "      <th>2</th>\n",
       "      <td>Indian Institute of Technology Bombay</td>\n",
       "      <td>AI</td>\n",
       "      <td>Gender-Neutral</td>\n",
       "      <td>2016</td>\n",
       "      <td>Computer Science and Engineering (4 Years, Bac...</td>\n",
       "      <td>60</td>\n",
       "      <td>1</td>\n",
       "      <td>OPEN</td>\n",
       "    </tr>\n",
       "    <tr>\n",
       "      <th>3</th>\n",
       "      <td>Indian Institute of Technology Bombay</td>\n",
       "      <td>AI</td>\n",
       "      <td>Gender-Neutral</td>\n",
       "      <td>2016</td>\n",
       "      <td>Energy Engineering with M.Tech. in Energy Syst...</td>\n",
       "      <td>848</td>\n",
       "      <td>338</td>\n",
       "      <td>SC</td>\n",
       "    </tr>\n",
       "    <tr>\n",
       "      <th>4</th>\n",
       "      <td>Indian Institute of Technology Bombay</td>\n",
       "      <td>AI</td>\n",
       "      <td>Gender-Neutral</td>\n",
       "      <td>2016</td>\n",
       "      <td>Metallurgical Engineering and Materials Scienc...</td>\n",
       "      <td>2971</td>\n",
       "      <td>1657</td>\n",
       "      <td>OPEN</td>\n",
       "    </tr>\n",
       "  </tbody>\n",
       "</table>\n",
       "</div>"
      ],
      "text/plain": [
       "                                    Institute Quota          Gender  Year  \\\n",
       "0  Indian Institute of Technology Bhubaneswar    AI  Gender-Neutral  2016   \n",
       "1       Indian Institute of Technology Bombay    AI  Gender-Neutral  2016   \n",
       "2       Indian Institute of Technology Bombay    AI  Gender-Neutral  2016   \n",
       "3       Indian Institute of Technology Bombay    AI  Gender-Neutral  2016   \n",
       "4       Indian Institute of Technology Bombay    AI  Gender-Neutral  2016   \n",
       "\n",
       "                               Academic_Program_Name Closing_Rank  \\\n",
       "0  Mechanical Engineering (4 Years, Bachelor of T...          651   \n",
       "1  Civil Engineering (4 Years, Bachelor of Techno...           21   \n",
       "2  Computer Science and Engineering (4 Years, Bac...           60   \n",
       "3  Energy Engineering with M.Tech. in Energy Syst...          848   \n",
       "4  Metallurgical Engineering and Materials Scienc...         2971   \n",
       "\n",
       "  Opening_Rank      Seat_Type  \n",
       "0          583             ST  \n",
       "1           21  OBC-NCL (PwD)  \n",
       "2            1           OPEN  \n",
       "3          338             SC  \n",
       "4         1657           OPEN  "
      ]
     },
     "execution_count": 14,
     "metadata": {},
     "output_type": "execute_result"
    }
   ],
   "source": [
    "data = pd.read_csv( '../data/JEE_Rank_2016_2024.csv')\n",
    "data.info()\n",
    "data.describe()\n",
    "data.head()"
   ]
  },
  {
   "cell_type": "code",
   "execution_count": 15,
   "metadata": {},
   "outputs": [],
   "source": [
    "unique_Academic_Program_Name = data['Academic_Program_Name'].unique()\n",
    "Academic_Program_Name_map = {program: idx for idx, program in enumerate(unique_Academic_Program_Name)}\n",
    "Academic_Program_Name_map\n",
    "data['Academic_Program_Name'] = data['Academic_Program_Name'].map(Academic_Program_Name_map)"
   ]
  },
  {
   "cell_type": "code",
   "execution_count": 16,
   "metadata": {},
   "outputs": [
    {
     "data": {
      "text/plain": [
       "{'Indian Institute of Technology Bhubaneswar': 0,\n",
       " 'Indian Institute of Technology Bombay': 1,\n",
       " 'Indian Institute of Technology Mandi': 2,\n",
       " 'Indian Institute of Technology Delhi': 3,\n",
       " 'Indian Institute of Technology Kharagpur': 4,\n",
       " 'Indian Institute of Technology Indore': 5,\n",
       " 'Indian Institute of Technology Hyderabad': 6,\n",
       " 'Indian Institute of Technology Jodhpur': 7,\n",
       " 'Indian Institute of Technology Kanpur': 8,\n",
       " 'Indian Institute of Technology Madras': 9,\n",
       " 'Indian Institute of Technology Gandhinagar': 10,\n",
       " 'Indian Institute of Technology Patna': 11,\n",
       " 'Indian Institute of Technology Roorkee': 12,\n",
       " 'Indian School of Mines Dhanbad': 13,\n",
       " 'Indian Institute of Technology Ropar': 14,\n",
       " 'Indian Institute of Technology (BHU) Varanasi': 15,\n",
       " 'Indian Institute of Technology Guwahati': 16,\n",
       " 'Indian Institute of Technology Bhilai': 17,\n",
       " 'Indian Institute of Technology Goa': 18,\n",
       " 'Indian Institute of Technology Palakkad': 19,\n",
       " 'Indian Institute of Technology Jammu': 20,\n",
       " 'Indian Institute of Technology Tirupati': 21,\n",
       " 'Indian Institute of Technology Dharwad': 22,\n",
       " 'Indian Institute of Technology (ISM) Dhanbad': 23}"
      ]
     },
     "execution_count": 16,
     "metadata": {},
     "output_type": "execute_result"
    }
   ],
   "source": [
    "unique_Institute = data['Institute'].unique()\n",
    "Institute_map = {program: idx for idx, program in enumerate(unique_Institute)}\n",
    "data['Institute'] = data['Institute'].map(Institute_map)\n",
    "Institute_map"
   ]
  },
  {
   "cell_type": "code",
   "execution_count": 17,
   "metadata": {},
   "outputs": [],
   "source": [
    "data['Seat'] = data['Seat_Type'].str.extract(r'^(.*?)\\s*\\(.*?\\)$')[0].fillna(data['Seat_Type'])\n",
    "data['Disability'] = data['Seat_Type'].str.contains(r'\\(PwD\\)').astype(int)\n",
    "\n",
    "data = data.drop(columns=['Seat_Type'])"
   ]
  },
  {
   "cell_type": "code",
   "execution_count": 18,
   "metadata": {},
   "outputs": [
    {
     "data": {
      "text/plain": [
       "{'ST': 0, 'OBC-NCL': 1, 'OPEN': 2, 'SC': 3, 'EWS': 4}"
      ]
     },
     "execution_count": 18,
     "metadata": {},
     "output_type": "execute_result"
    }
   ],
   "source": [
    "unique_Seat = data['Seat'].unique()\n",
    "Seat_map = {program: idx for idx, program in enumerate(unique_Seat)}\n",
    "data['Seat'] = data['Seat'].map(Seat_map)\n",
    "Seat_map"
   ]
  },
  {
   "cell_type": "code",
   "execution_count": null,
   "metadata": {},
   "outputs": [],
   "source": []
  },
  {
   "cell_type": "code",
   "execution_count": 19,
   "metadata": {},
   "outputs": [
    {
     "data": {
      "text/plain": [
       "{'Gender-Neutral': 0, 'Female-only (including Supernumerary)': 1}"
      ]
     },
     "execution_count": 19,
     "metadata": {},
     "output_type": "execute_result"
    }
   ],
   "source": [
    "unique_Gender = data['Gender'].unique()\n",
    "Gender_map = {program: idx for idx, program in enumerate(unique_Gender)}\n",
    "data['Gender'] = data['Gender'].map(Gender_map)\n",
    "Gender_map"
   ]
  },
  {
   "cell_type": "code",
   "execution_count": 20,
   "metadata": {},
   "outputs": [],
   "source": [
    "unique_Quota = data['Quota'].unique()\n",
    "Quota_map = {program: idx for idx, program in enumerate(unique_Quota)}\n",
    "data = data.drop(columns=['Quota'])"
   ]
  },
  {
   "cell_type": "code",
   "execution_count": 21,
   "metadata": {},
   "outputs": [],
   "source": [
    "with open('../data/maps/Institute_map.json', 'w') as f:\n",
    "    json.dump(Institute_map, f)\n",
    "with open('../data/maps/Gender_map.json', 'w') as f:\n",
    "    json.dump(Gender_map, f)\n",
    "with open('../data/maps/Academic_Program_Name.json', 'w') as f:\n",
    "    json.dump(Academic_Program_Name_map, f)\n",
    "with open('../data/maps/Seat_map.json', 'w') as f:\n",
    "    json.dump(Seat_map, f)"
   ]
  },
  {
   "cell_type": "code",
   "execution_count": 22,
   "metadata": {},
   "outputs": [],
   "source": [
    "# data = data.sample(n=100, random_state=1)"
   ]
  },
  {
   "cell_type": "code",
   "execution_count": 23,
   "metadata": {},
   "outputs": [],
   "source": [
    "data['Closing_Rank'] = pd.to_numeric(data['Closing_Rank'], errors='coerce').fillna(0).astype(int)\n",
    "data['Opening_Rank'] = pd.to_numeric(data['Opening_Rank'], errors='coerce').fillna(0).astype(int)"
   ]
  },
  {
   "cell_type": "code",
   "execution_count": 24,
   "metadata": {},
   "outputs": [
    {
     "data": {
      "text/html": [
       "<div>\n",
       "<style scoped>\n",
       "    .dataframe tbody tr th:only-of-type {\n",
       "        vertical-align: middle;\n",
       "    }\n",
       "\n",
       "    .dataframe tbody tr th {\n",
       "        vertical-align: top;\n",
       "    }\n",
       "\n",
       "    .dataframe thead th {\n",
       "        text-align: right;\n",
       "    }\n",
       "</style>\n",
       "<table border=\"1\" class=\"dataframe\">\n",
       "  <thead>\n",
       "    <tr style=\"text-align: right;\">\n",
       "      <th></th>\n",
       "      <th>Institute</th>\n",
       "      <th>Gender</th>\n",
       "      <th>Year</th>\n",
       "      <th>Academic_Program_Name</th>\n",
       "      <th>Closing_Rank</th>\n",
       "      <th>Opening_Rank</th>\n",
       "      <th>Seat</th>\n",
       "      <th>Disability</th>\n",
       "    </tr>\n",
       "  </thead>\n",
       "  <tbody>\n",
       "    <tr>\n",
       "      <th>0</th>\n",
       "      <td>0</td>\n",
       "      <td>0</td>\n",
       "      <td>2016</td>\n",
       "      <td>0</td>\n",
       "      <td>651</td>\n",
       "      <td>583</td>\n",
       "      <td>0</td>\n",
       "      <td>0</td>\n",
       "    </tr>\n",
       "    <tr>\n",
       "      <th>1</th>\n",
       "      <td>1</td>\n",
       "      <td>0</td>\n",
       "      <td>2016</td>\n",
       "      <td>1</td>\n",
       "      <td>21</td>\n",
       "      <td>21</td>\n",
       "      <td>1</td>\n",
       "      <td>1</td>\n",
       "    </tr>\n",
       "    <tr>\n",
       "      <th>2</th>\n",
       "      <td>1</td>\n",
       "      <td>0</td>\n",
       "      <td>2016</td>\n",
       "      <td>2</td>\n",
       "      <td>60</td>\n",
       "      <td>1</td>\n",
       "      <td>2</td>\n",
       "      <td>0</td>\n",
       "    </tr>\n",
       "    <tr>\n",
       "      <th>3</th>\n",
       "      <td>1</td>\n",
       "      <td>0</td>\n",
       "      <td>2016</td>\n",
       "      <td>3</td>\n",
       "      <td>848</td>\n",
       "      <td>338</td>\n",
       "      <td>3</td>\n",
       "      <td>0</td>\n",
       "    </tr>\n",
       "    <tr>\n",
       "      <th>4</th>\n",
       "      <td>1</td>\n",
       "      <td>0</td>\n",
       "      <td>2016</td>\n",
       "      <td>4</td>\n",
       "      <td>2971</td>\n",
       "      <td>1657</td>\n",
       "      <td>2</td>\n",
       "      <td>0</td>\n",
       "    </tr>\n",
       "    <tr>\n",
       "      <th>...</th>\n",
       "      <td>...</td>\n",
       "      <td>...</td>\n",
       "      <td>...</td>\n",
       "      <td>...</td>\n",
       "      <td>...</td>\n",
       "      <td>...</td>\n",
       "      <td>...</td>\n",
       "      <td>...</td>\n",
       "    </tr>\n",
       "    <tr>\n",
       "      <th>20828</th>\n",
       "      <td>22</td>\n",
       "      <td>1</td>\n",
       "      <td>2024</td>\n",
       "      <td>0</td>\n",
       "      <td>9014</td>\n",
       "      <td>7628</td>\n",
       "      <td>1</td>\n",
       "      <td>0</td>\n",
       "    </tr>\n",
       "    <tr>\n",
       "      <th>20829</th>\n",
       "      <td>22</td>\n",
       "      <td>0</td>\n",
       "      <td>2024</td>\n",
       "      <td>0</td>\n",
       "      <td>2629</td>\n",
       "      <td>1327</td>\n",
       "      <td>3</td>\n",
       "      <td>0</td>\n",
       "    </tr>\n",
       "    <tr>\n",
       "      <th>20830</th>\n",
       "      <td>22</td>\n",
       "      <td>1</td>\n",
       "      <td>2024</td>\n",
       "      <td>0</td>\n",
       "      <td>4303</td>\n",
       "      <td>4302</td>\n",
       "      <td>3</td>\n",
       "      <td>0</td>\n",
       "    </tr>\n",
       "    <tr>\n",
       "      <th>20831</th>\n",
       "      <td>22</td>\n",
       "      <td>0</td>\n",
       "      <td>2024</td>\n",
       "      <td>0</td>\n",
       "      <td>1213</td>\n",
       "      <td>664</td>\n",
       "      <td>0</td>\n",
       "      <td>0</td>\n",
       "    </tr>\n",
       "    <tr>\n",
       "      <th>20832</th>\n",
       "      <td>22</td>\n",
       "      <td>1</td>\n",
       "      <td>2024</td>\n",
       "      <td>0</td>\n",
       "      <td>1687</td>\n",
       "      <td>1687</td>\n",
       "      <td>0</td>\n",
       "      <td>0</td>\n",
       "    </tr>\n",
       "  </tbody>\n",
       "</table>\n",
       "<p>20833 rows × 8 columns</p>\n",
       "</div>"
      ],
      "text/plain": [
       "       Institute  Gender  Year  Academic_Program_Name  Closing_Rank  \\\n",
       "0              0       0  2016                      0           651   \n",
       "1              1       0  2016                      1            21   \n",
       "2              1       0  2016                      2            60   \n",
       "3              1       0  2016                      3           848   \n",
       "4              1       0  2016                      4          2971   \n",
       "...          ...     ...   ...                    ...           ...   \n",
       "20828         22       1  2024                      0          9014   \n",
       "20829         22       0  2024                      0          2629   \n",
       "20830         22       1  2024                      0          4303   \n",
       "20831         22       0  2024                      0          1213   \n",
       "20832         22       1  2024                      0          1687   \n",
       "\n",
       "       Opening_Rank  Seat  Disability  \n",
       "0               583     0           0  \n",
       "1                21     1           1  \n",
       "2                 1     2           0  \n",
       "3               338     3           0  \n",
       "4              1657     2           0  \n",
       "...             ...   ...         ...  \n",
       "20828          7628     1           0  \n",
       "20829          1327     3           0  \n",
       "20830          4302     3           0  \n",
       "20831           664     0           0  \n",
       "20832          1687     0           0  \n",
       "\n",
       "[20833 rows x 8 columns]"
      ]
     },
     "execution_count": 24,
     "metadata": {},
     "output_type": "execute_result"
    }
   ],
   "source": [
    "data"
   ]
  },
  {
   "cell_type": "code",
   "execution_count": 25,
   "metadata": {},
   "outputs": [],
   "source": [
    "data.to_csv('../data/numeric_data.csv', index=False)\n"
   ]
  },
  {
   "cell_type": "code",
   "execution_count": null,
   "metadata": {},
   "outputs": [],
   "source": []
  }
 ],
 "metadata": {
  "kernelspec": {
   "display_name": "Python 3",
   "language": "python",
   "name": "python3"
  },
  "language_info": {
   "codemirror_mode": {
    "name": "ipython",
    "version": 3
   },
   "file_extension": ".py",
   "mimetype": "text/x-python",
   "name": "python",
   "nbconvert_exporter": "python",
   "pygments_lexer": "ipython3",
   "version": "3.12.3"
  }
 },
 "nbformat": 4,
 "nbformat_minor": 2
}
